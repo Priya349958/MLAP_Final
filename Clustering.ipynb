{
  "nbformat": 4,
  "nbformat_minor": 0,
  "metadata": {
    "colab": {
      "name": "Clustering.ipynb",
      "provenance": [],
      "collapsed_sections": [],
      "include_colab_link": true
    },
    "kernelspec": {
      "name": "python3",
      "display_name": "Python 3"
    },
    "language_info": {
      "name": "python"
    }
  },
  "cells": [
    {
      "cell_type": "markdown",
      "metadata": {
        "id": "view-in-github",
        "colab_type": "text"
      },
      "source": [
        "<a href=\"https://colab.research.google.com/github/Priya349958/MLAP_Final/blob/main/Clustering.ipynb\" target=\"_parent\"><img src=\"https://colab.research.google.com/assets/colab-badge.svg\" alt=\"Open In Colab\"/></a>"
      ]
    },
    {
      "cell_type": "code",
      "metadata": {
        "id": "Huv3a-Jnm5r5"
      },
      "source": [
        "import warnings\n",
        "warnings.filterwarnings('ignore')"
      ],
      "execution_count": 1,
      "outputs": []
    },
    {
      "cell_type": "code",
      "metadata": {
        "id": "HcwY3r_WnHLM"
      },
      "source": [
        "import pandas as pd\n",
        "customers_df = pd.read_csv( \"https://raw.githubusercontent.com/Priya349958/MLAP7/main/Income%20Data.csv\")"
      ],
      "execution_count": 2,
      "outputs": []
    },
    {
      "cell_type": "code",
      "metadata": {
        "colab": {
          "base_uri": "https://localhost:8080/",
          "height": 204
        },
        "id": "mswQBdj7n2gd",
        "outputId": "6c417d52-d397-465c-c6cf-e972892f75b4"
      },
      "source": [
        "customers_df.head(5)"
      ],
      "execution_count": 3,
      "outputs": [
        {
          "output_type": "execute_result",
          "data": {
            "text/html": [
              "<div>\n",
              "<style scoped>\n",
              "    .dataframe tbody tr th:only-of-type {\n",
              "        vertical-align: middle;\n",
              "    }\n",
              "\n",
              "    .dataframe tbody tr th {\n",
              "        vertical-align: top;\n",
              "    }\n",
              "\n",
              "    .dataframe thead th {\n",
              "        text-align: right;\n",
              "    }\n",
              "</style>\n",
              "<table border=\"1\" class=\"dataframe\">\n",
              "  <thead>\n",
              "    <tr style=\"text-align: right;\">\n",
              "      <th></th>\n",
              "      <th>income</th>\n",
              "      <th>age</th>\n",
              "    </tr>\n",
              "  </thead>\n",
              "  <tbody>\n",
              "    <tr>\n",
              "      <th>0</th>\n",
              "      <td>41100.0</td>\n",
              "      <td>48.75</td>\n",
              "    </tr>\n",
              "    <tr>\n",
              "      <th>1</th>\n",
              "      <td>54100.0</td>\n",
              "      <td>28.10</td>\n",
              "    </tr>\n",
              "    <tr>\n",
              "      <th>2</th>\n",
              "      <td>47800.0</td>\n",
              "      <td>46.75</td>\n",
              "    </tr>\n",
              "    <tr>\n",
              "      <th>3</th>\n",
              "      <td>19100.0</td>\n",
              "      <td>40.25</td>\n",
              "    </tr>\n",
              "    <tr>\n",
              "      <th>4</th>\n",
              "      <td>18200.0</td>\n",
              "      <td>35.80</td>\n",
              "    </tr>\n",
              "  </tbody>\n",
              "</table>\n",
              "</div>"
            ],
            "text/plain": [
              "    income    age\n",
              "0  41100.0  48.75\n",
              "1  54100.0  28.10\n",
              "2  47800.0  46.75\n",
              "3  19100.0  40.25\n",
              "4  18200.0  35.80"
            ]
          },
          "metadata": {},
          "execution_count": 3
        }
      ]
    },
    {
      "cell_type": "code",
      "metadata": {
        "id": "r_5_wFSbn9hc"
      },
      "source": [
        "import pandas as pd\n",
        "import numpy as np\n",
        "import matplotlib.pyplot as plt\n",
        "import seaborn as sn\n",
        "%matplotlib inline"
      ],
      "execution_count": 4,
      "outputs": []
    },
    {
      "cell_type": "code",
      "metadata": {
        "colab": {
          "base_uri": "https://localhost:8080/",
          "height": 297
        },
        "id": "QrwjMuV6oB79",
        "outputId": "49a567e1-66b2-4d50-f6ae-7da0d8d90143"
      },
      "source": [
        "sn.lmplot( \"age\", \"income\", data=customers_df, fit_reg = False, size = 4 );\n",
        "#plt.title( \"Fig 1: Customer Segments Based on Income and Age\");"
      ],
      "execution_count": 5,
      "outputs": [
        {
          "output_type": "display_data",
          "data": {
            "image/png": "[encoded data removed]",
            "text/plain": [
              "<Figure size 288x288 with 1 Axes>"
            ]
          },
          "metadata": {
            "needs_background": "light"
          }
        }
      ]
    },
    {
      "cell_type": "markdown",
      "metadata": {
        "id": "AYEys1lMoNo7"
      },
      "source": [
        "# **K-means Clustering**"
      ]
    },
    {
      "cell_type": "markdown",
      "metadata": {
        "id": "F4VS1yoXCNcj"
      },
      "source": [
        "KMeans(n) - no. of clusters to form"
      ]
    },
    {
      "cell_type": "code",
      "metadata": {
        "colab": {
          "base_uri": "https://localhost:8080/"
        },
        "id": "WRTxa5n3oNKf",
        "outputId": "a4aa963f-d2fd-4219-e0c7-2e21fefcdbde"
      },
      "source": [
        "from sklearn.cluster import KMeans\n",
        "clusters = KMeans( 3 )\n",
        "clusters.fit( customers_df )"
      ],
      "execution_count": 6,
      "outputs": [
        {
          "output_type": "execute_result",
          "data": {
            "text/plain": [
              "KMeans(algorithm='auto', copy_x=True, init='k-means++', max_iter=300,\n",
              "       n_clusters=3, n_init=10, n_jobs=None, precompute_distances='auto',\n",
              "       random_state=None, tol=0.0001, verbose=0)"
            ]
          },
          "metadata": {},
          "execution_count": 6
        }
      ]
    },
    {
      "cell_type": "code",
      "metadata": {
        "id": "wMBMrSlaoYSK"
      },
      "source": [
        "customers_df[\"clusterid\"] = clusters.labels_"
      ],
      "execution_count": 7,
      "outputs": []
    },
    {
      "cell_type": "code",
      "metadata": {
        "colab": {
          "base_uri": "https://localhost:8080/",
          "height": 204
        },
        "id": "EL721YF0obX_",
        "outputId": "be208924-04e4-4b3d-b4df-ae192d7e1616"
      },
      "source": [
        "customers_df[0:5]"
      ],
      "execution_count": 8,
      "outputs": [
        {
          "output_type": "execute_result",
          "data": {
            "text/html": [
              "<div>\n",
              "<style scoped>\n",
              "    .dataframe tbody tr th:only-of-type {\n",
              "        vertical-align: middle;\n",
              "    }\n",
              "\n",
              "    .dataframe tbody tr th {\n",
              "        vertical-align: top;\n",
              "    }\n",
              "\n",
              "    .dataframe thead th {\n",
              "        text-align: right;\n",
              "    }\n",
              "</style>\n",
              "<table border=\"1\" class=\"dataframe\">\n",
              "  <thead>\n",
              "    <tr style=\"text-align: right;\">\n",
              "      <th></th>\n",
              "      <th>income</th>\n",
              "      <th>age</th>\n",
              "      <th>clusterid</th>\n",
              "    </tr>\n",
              "  </thead>\n",
              "  <tbody>\n",
              "    <tr>\n",
              "      <th>0</th>\n",
              "      <td>41100.0</td>\n",
              "      <td>48.75</td>\n",
              "      <td>0</td>\n",
              "    </tr>\n",
              "    <tr>\n",
              "      <th>1</th>\n",
              "      <td>54100.0</td>\n",
              "      <td>28.10</td>\n",
              "      <td>2</td>\n",
              "    </tr>\n",
              "    <tr>\n",
              "      <th>2</th>\n",
              "      <td>47800.0</td>\n",
              "      <td>46.75</td>\n",
              "      <td>0</td>\n",
              "    </tr>\n",
              "    <tr>\n",
              "      <th>3</th>\n",
              "      <td>19100.0</td>\n",
              "      <td>40.25</td>\n",
              "      <td>1</td>\n",
              "    </tr>\n",
              "    <tr>\n",
              "      <th>4</th>\n",
              "      <td>18200.0</td>\n",
              "      <td>35.80</td>\n",
              "      <td>1</td>\n",
              "    </tr>\n",
              "  </tbody>\n",
              "</table>\n",
              "</div>"
            ],
            "text/plain": [
              "    income    age  clusterid\n",
              "0  41100.0  48.75          0\n",
              "1  54100.0  28.10          2\n",
              "2  47800.0  46.75          0\n",
              "3  19100.0  40.25          1\n",
              "4  18200.0  35.80          1"
            ]
          },
          "metadata": {},
          "execution_count": 8
        }
      ]
    },
    {
      "cell_type": "markdown",
      "metadata": {
        "id": "8OE3c5vRofMx"
      },
      "source": [
        "# **Plotting the customers with their segments**"
      ]
    },
    {
      "cell_type": "code",
      "metadata": {
        "colab": {
          "base_uri": "https://localhost:8080/",
          "height": 297
        },
        "id": "yYE55XuLohFG",
        "outputId": "d4a6fa70-6b77-418f-e158-3e82f53f1bcd"
      },
      "source": [
        "markers = ['+','^','.']\n",
        "sn.lmplot( \"age\", \"income\",\n",
        "data=customers_df,\n",
        "hue = \"clusterid\",\n",
        "fit_reg=False,\n",
        "markers = markers,\n",
        "size = 4 );"
      ],
      "execution_count": 9,
      "outputs": [
        {
          "output_type": "display_data",
          "data": {
            "image/png": "[encoded data removed]",
            "text/plain": [
              "<Figure size 339.375x288 with 1 Axes>"
            ]
          },
          "metadata": {
            "needs_background": "light"
          }
        }
      ]
    },
    {
      "cell_type": "markdown",
      "metadata": {
        "id": "WyP0Z406DBCM"
      },
      "source": [
        "To minimize misclassification, normalizing is done"
      ]
    },
    {
      "cell_type": "markdown",
      "metadata": {
        "id": "Zrq2mUvGosnZ"
      },
      "source": [
        "# **Normalizing the features**"
      ]
    },
    {
      "cell_type": "code",
      "metadata": {
        "id": "q65xcQqzoqd0"
      },
      "source": [
        "from sklearn.preprocessing import StandardScaler"
      ],
      "execution_count": 10,
      "outputs": []
    },
    {
      "cell_type": "code",
      "metadata": {
        "colab": {
          "base_uri": "https://localhost:8080/"
        },
        "id": "OrP1gllco2cR",
        "outputId": "33cc8b29-3602-4571-9496-97101ea9c2d9"
      },
      "source": [
        "scaler = StandardScaler()\n",
        "scaled_customers_df = scaler.fit_transform(\n",
        "  customers_df[[\"age\", \"income\"]] )\n",
        "scaled_customers_df[0:5]"
      ],
      "execution_count": 11,
      "outputs": [
        {
          "output_type": "execute_result",
          "data": {
            "text/plain": [
              "array([[ 1.3701637 ,  0.09718548],\n",
              "       [-1.3791283 ,  0.90602749],\n",
              "       [ 1.10388844,  0.51405021],\n",
              "       [ 0.23849387, -1.27162408],\n",
              "       [-0.35396857, -1.32762083]])"
            ]
          },
          "metadata": {},
          "execution_count": 11
        }
      ]
    },
    {
      "cell_type": "code",
      "metadata": {
        "id": "sJTZbauPo6u7"
      },
      "source": [
        "from sklearn.cluster import KMeans\n",
        "clusters_new = KMeans( 3, random_state=42 )\n",
        "clusters_new.fit( scaled_customers_df )\n",
        "customers_df[\"clusterid_new\"] = clusters_new.labels_"
      ],
      "execution_count": 12,
      "outputs": []
    },
    {
      "cell_type": "code",
      "metadata": {
        "colab": {
          "base_uri": "https://localhost:8080/",
          "height": 297
        },
        "id": "-nb3Ff9WpAg4",
        "outputId": "b3261f52-068d-43ca-e1fa-42dcae30b9f6"
      },
      "source": [
        "markers = ['+','^','.']\n",
        "sn.lmplot( \"age\", \"income\",\n",
        "data=customers_df,\n",
        "hue = \"clusterid_new\",\n",
        "fit_reg=False,\n",
        "markers = markers,\n",
        "size = 4 );\n",
        "#plt.title( \"Fig 3: Customer segments created after normalization\");"
      ],
      "execution_count": 13,
      "outputs": [
        {
          "output_type": "display_data",
          "data": {
            "image/png": "[encoded data removed]",
            "text/plain": [
              "<Figure size 365x288 with 1 Axes>"
            ]
          },
          "metadata": {
            "needs_background": "light"
          }
        }
      ]
    },
    {
      "cell_type": "markdown",
      "metadata": {
        "id": "OZuuzz-VpNiF"
      },
      "source": [
        "# **Cluster Centers and Interpreting the Clusters**"
      ]
    },
    {
      "cell_type": "code",
      "metadata": {
        "colab": {
          "base_uri": "https://localhost:8080/",
          "height": 173
        },
        "id": "bAMG1WFbpMrK",
        "outputId": "dbd47a01-8f01-4799-8f11-b87fa6dde87e"
      },
      "source": [
        "customers_df.groupby( 'clusterid' )['age',\n",
        "'income'].agg( [\"mean\",\n",
        "'std'] ).reset_index()"
      ],
      "execution_count": 14,
      "outputs": [
        {
          "output_type": "execute_result",
          "data": {
            "text/html": [
              "<div>\n",
              "<style scoped>\n",
              "    .dataframe tbody tr th:only-of-type {\n",
              "        vertical-align: middle;\n",
              "    }\n",
              "\n",
              "    .dataframe tbody tr th {\n",
              "        vertical-align: top;\n",
              "    }\n",
              "\n",
              "    .dataframe thead tr th {\n",
              "        text-align: left;\n",
              "    }\n",
              "</style>\n",
              "<table border=\"1\" class=\"dataframe\">\n",
              "  <thead>\n",
              "    <tr>\n",
              "      <th></th>\n",
              "      <th>clusterid</th>\n",
              "      <th colspan=\"2\" halign=\"left\">age</th>\n",
              "      <th colspan=\"2\" halign=\"left\">income</th>\n",
              "    </tr>\n",
              "    <tr>\n",
              "      <th></th>\n",
              "      <th></th>\n",
              "      <th>mean</th>\n",
              "      <th>std</th>\n",
              "      <th>mean</th>\n",
              "      <th>std</th>\n",
              "    </tr>\n",
              "  </thead>\n",
              "  <tbody>\n",
              "    <tr>\n",
              "      <th>0</th>\n",
              "      <td>0</td>\n",
              "      <td>46.419101</td>\n",
              "      <td>2.289620</td>\n",
              "      <td>43053.932584</td>\n",
              "      <td>3613.769632</td>\n",
              "    </tr>\n",
              "    <tr>\n",
              "      <th>1</th>\n",
              "      <td>1</td>\n",
              "      <td>39.174479</td>\n",
              "      <td>3.626068</td>\n",
              "      <td>18144.791667</td>\n",
              "      <td>6745.241906</td>\n",
              "    </tr>\n",
              "    <tr>\n",
              "      <th>2</th>\n",
              "      <td>2</td>\n",
              "      <td>31.700435</td>\n",
              "      <td>6.122122</td>\n",
              "      <td>54675.652174</td>\n",
              "      <td>2362.224320</td>\n",
              "    </tr>\n",
              "  </tbody>\n",
              "</table>\n",
              "</div>"
            ],
            "text/plain": [
              "  clusterid        age                  income             \n",
              "                  mean       std          mean          std\n",
              "0         0  46.419101  2.289620  43053.932584  3613.769632\n",
              "1         1  39.174479  3.626068  18144.791667  6745.241906\n",
              "2         2  31.700435  6.122122  54675.652174  2362.224320"
            ]
          },
          "metadata": {},
          "execution_count": 14
        }
      ]
    },
    {
      "cell_type": "markdown",
      "metadata": {
        "id": "f-9DUe5XpV5v"
      },
      "source": [
        "# **Creating Product Segments**\n",
        "**Beer Dataset**"
      ]
    },
    {
      "cell_type": "code",
      "metadata": {
        "id": "twHNAPLupXsw"
      },
      "source": [
        "beer_df = pd.read_csv( 'https://raw.githubusercontent.com/Priya349958/MLAP7/main/beer.csv' )"
      ],
      "execution_count": 15,
      "outputs": []
    },
    {
      "cell_type": "code",
      "metadata": {
        "colab": {
          "base_uri": "https://localhost:8080/",
          "height": 669
        },
        "id": "40XwakoQqGRv",
        "outputId": "a58b54a2-7fe0-426f-9667-8accb3ad78f8"
      },
      "source": [
        "beer_df"
      ],
      "execution_count": 16,
      "outputs": [
        {
          "output_type": "execute_result",
          "data": {
            "text/html": [
              "<div>\n",
              "<style scoped>\n",
              "    .dataframe tbody tr th:only-of-type {\n",
              "        vertical-align: middle;\n",
              "    }\n",
              "\n",
              "    .dataframe tbody tr th {\n",
              "        vertical-align: top;\n",
              "    }\n",
              "\n",
              "    .dataframe thead th {\n",
              "        text-align: right;\n",
              "    }\n",
              "</style>\n",
              "<table border=\"1\" class=\"dataframe\">\n",
              "  <thead>\n",
              "    <tr style=\"text-align: right;\">\n",
              "      <th></th>\n",
              "      <th>name</th>\n",
              "      <th>calories</th>\n",
              "      <th>sodium</th>\n",
              "      <th>alcohol</th>\n",
              "      <th>cost</th>\n",
              "    </tr>\n",
              "  </thead>\n",
              "  <tbody>\n",
              "    <tr>\n",
              "      <th>0</th>\n",
              "      <td>Budweiser</td>\n",
              "      <td>144</td>\n",
              "      <td>15</td>\n",
              "      <td>4.7</td>\n",
              "      <td>0.43</td>\n",
              "    </tr>\n",
              "    <tr>\n",
              "      <th>1</th>\n",
              "      <td>Schlitz</td>\n",
              "      <td>151</td>\n",
              "      <td>19</td>\n",
              "      <td>4.9</td>\n",
              "      <td>0.43</td>\n",
              "    </tr>\n",
              "    <tr>\n",
              "      <th>2</th>\n",
              "      <td>Lowenbrau</td>\n",
              "      <td>157</td>\n",
              "      <td>15</td>\n",
              "      <td>0.9</td>\n",
              "      <td>0.48</td>\n",
              "    </tr>\n",
              "    <tr>\n",
              "      <th>3</th>\n",
              "      <td>Kronenbourg</td>\n",
              "      <td>170</td>\n",
              "      <td>7</td>\n",
              "      <td>5.2</td>\n",
              "      <td>0.73</td>\n",
              "    </tr>\n",
              "    <tr>\n",
              "      <th>4</th>\n",
              "      <td>Heineken</td>\n",
              "      <td>152</td>\n",
              "      <td>11</td>\n",
              "      <td>5.0</td>\n",
              "      <td>0.77</td>\n",
              "    </tr>\n",
              "    <tr>\n",
              "      <th>5</th>\n",
              "      <td>Old_Milwaukee</td>\n",
              "      <td>145</td>\n",
              "      <td>23</td>\n",
              "      <td>4.6</td>\n",
              "      <td>0.28</td>\n",
              "    </tr>\n",
              "    <tr>\n",
              "      <th>6</th>\n",
              "      <td>Augsberger</td>\n",
              "      <td>175</td>\n",
              "      <td>24</td>\n",
              "      <td>5.5</td>\n",
              "      <td>0.40</td>\n",
              "    </tr>\n",
              "    <tr>\n",
              "      <th>7</th>\n",
              "      <td>Srohs_Bohemian_Style</td>\n",
              "      <td>149</td>\n",
              "      <td>27</td>\n",
              "      <td>4.7</td>\n",
              "      <td>0.42</td>\n",
              "    </tr>\n",
              "    <tr>\n",
              "      <th>8</th>\n",
              "      <td>Miller_Lite</td>\n",
              "      <td>99</td>\n",
              "      <td>10</td>\n",
              "      <td>4.3</td>\n",
              "      <td>0.43</td>\n",
              "    </tr>\n",
              "    <tr>\n",
              "      <th>9</th>\n",
              "      <td>Budweiser_Light</td>\n",
              "      <td>113</td>\n",
              "      <td>8</td>\n",
              "      <td>3.7</td>\n",
              "      <td>0.40</td>\n",
              "    </tr>\n",
              "    <tr>\n",
              "      <th>10</th>\n",
              "      <td>Coors</td>\n",
              "      <td>140</td>\n",
              "      <td>18</td>\n",
              "      <td>4.6</td>\n",
              "      <td>0.44</td>\n",
              "    </tr>\n",
              "    <tr>\n",
              "      <th>11</th>\n",
              "      <td>Coors_Light</td>\n",
              "      <td>102</td>\n",
              "      <td>15</td>\n",
              "      <td>4.1</td>\n",
              "      <td>0.46</td>\n",
              "    </tr>\n",
              "    <tr>\n",
              "      <th>12</th>\n",
              "      <td>Michelob_Light</td>\n",
              "      <td>135</td>\n",
              "      <td>11</td>\n",
              "      <td>4.2</td>\n",
              "      <td>0.50</td>\n",
              "    </tr>\n",
              "    <tr>\n",
              "      <th>13</th>\n",
              "      <td>Becks</td>\n",
              "      <td>150</td>\n",
              "      <td>19</td>\n",
              "      <td>4.7</td>\n",
              "      <td>0.76</td>\n",
              "    </tr>\n",
              "    <tr>\n",
              "      <th>14</th>\n",
              "      <td>Kirin</td>\n",
              "      <td>149</td>\n",
              "      <td>6</td>\n",
              "      <td>5.0</td>\n",
              "      <td>0.79</td>\n",
              "    </tr>\n",
              "    <tr>\n",
              "      <th>15</th>\n",
              "      <td>Pabst_Extra_Light</td>\n",
              "      <td>68</td>\n",
              "      <td>15</td>\n",
              "      <td>2.3</td>\n",
              "      <td>0.38</td>\n",
              "    </tr>\n",
              "    <tr>\n",
              "      <th>16</th>\n",
              "      <td>Hamms</td>\n",
              "      <td>139</td>\n",
              "      <td>19</td>\n",
              "      <td>4.4</td>\n",
              "      <td>0.43</td>\n",
              "    </tr>\n",
              "    <tr>\n",
              "      <th>17</th>\n",
              "      <td>Heilemans_Old_Style</td>\n",
              "      <td>144</td>\n",
              "      <td>24</td>\n",
              "      <td>4.9</td>\n",
              "      <td>0.43</td>\n",
              "    </tr>\n",
              "    <tr>\n",
              "      <th>18</th>\n",
              "      <td>Olympia_Goled_Light</td>\n",
              "      <td>72</td>\n",
              "      <td>6</td>\n",
              "      <td>2.9</td>\n",
              "      <td>0.46</td>\n",
              "    </tr>\n",
              "    <tr>\n",
              "      <th>19</th>\n",
              "      <td>Schlitz_Light</td>\n",
              "      <td>97</td>\n",
              "      <td>7</td>\n",
              "      <td>4.2</td>\n",
              "      <td>0.47</td>\n",
              "    </tr>\n",
              "  </tbody>\n",
              "</table>\n",
              "</div>"
            ],
            "text/plain": [
              "                    name  calories  sodium  alcohol  cost\n",
              "0              Budweiser       144      15      4.7  0.43\n",
              "1                Schlitz       151      19      4.9  0.43\n",
              "2              Lowenbrau       157      15      0.9  0.48\n",
              "3            Kronenbourg       170       7      5.2  0.73\n",
              "4               Heineken       152      11      5.0  0.77\n",
              "5          Old_Milwaukee       145      23      4.6  0.28\n",
              "6             Augsberger       175      24      5.5  0.40\n",
              "7   Srohs_Bohemian_Style       149      27      4.7  0.42\n",
              "8            Miller_Lite        99      10      4.3  0.43\n",
              "9        Budweiser_Light       113       8      3.7  0.40\n",
              "10                 Coors       140      18      4.6  0.44\n",
              "11           Coors_Light       102      15      4.1  0.46\n",
              "12        Michelob_Light       135      11      4.2  0.50\n",
              "13                 Becks       150      19      4.7  0.76\n",
              "14                 Kirin       149       6      5.0  0.79\n",
              "15     Pabst_Extra_Light        68      15      2.3  0.38\n",
              "16                 Hamms       139      19      4.4  0.43\n",
              "17   Heilemans_Old_Style       144      24      4.9  0.43\n",
              "18   Olympia_Goled_Light        72       6      2.9  0.46\n",
              "19         Schlitz_Light        97       7      4.2  0.47"
            ]
          },
          "metadata": {},
          "execution_count": 16
        }
      ]
    },
    {
      "cell_type": "code",
      "metadata": {
        "id": "Wmk0h4ggqIx3"
      },
      "source": [
        "from sklearn.preprocessing import StandardScaler\n",
        "scaler = StandardScaler()\n",
        "scaled_beer_df = scaler.fit_transform( beer_df[['calories',\n",
        "                                                'sodium',\n",
        "                                                'alcohol',\n",
        "                                                'cost']] )"
      ],
      "execution_count": 17,
      "outputs": []
    },
    {
      "cell_type": "markdown",
      "metadata": {
        "id": "ZmfWmswDqWtc"
      },
      "source": [
        "# **How many clusters exist?**\n",
        "**Using Dendrogram**"
      ]
    },
    {
      "cell_type": "code",
      "metadata": {
        "colab": {
          "base_uri": "https://localhost:8080/",
          "height": 587
        },
        "id": "cwQCC9N1qUMD",
        "outputId": "1933f9be-e174-465d-c92e-35a6dc0c5b87"
      },
      "source": [
        "cmap = sn.cubehelix_palette(as_cmap=True, rot=-.3, light=1)\n",
        "sn.clustermap(scaled_beer_df, cmap=cmap, linewidths=.2,\n",
        "              figsize = (8,8) );\n",
        "#plt.title( \"Fig 4: Dendrogram of Beer Dataset\");"
      ],
      "execution_count": 18,
      "outputs": [
        {
          "output_type": "display_data",
          "data": {
            "image/png": "[encoded data removed]",
            "text/plain": [
              "<Figure size 576x576 with 4 Axes>"
            ]
          },
          "metadata": {
            "needs_background": "light"
          }
        }
      ]
    },
    {
      "cell_type": "code",
      "metadata": {
        "colab": {
          "base_uri": "https://localhost:8080/",
          "height": 111
        },
        "id": "G7KhNczBqrqS",
        "outputId": "994fbd58-fe2b-43b6-9ba4-0e621778de61"
      },
      "source": [
        "beer_df.iloc[[10,16]]"
      ],
      "execution_count": 19,
      "outputs": [
        {
          "output_type": "execute_result",
          "data": {
            "text/html": [
              "<div>\n",
              "<style scoped>\n",
              "    .dataframe tbody tr th:only-of-type {\n",
              "        vertical-align: middle;\n",
              "    }\n",
              "\n",
              "    .dataframe tbody tr th {\n",
              "        vertical-align: top;\n",
              "    }\n",
              "\n",
              "    .dataframe thead th {\n",
              "        text-align: right;\n",
              "    }\n",
              "</style>\n",
              "<table border=\"1\" class=\"dataframe\">\n",
              "  <thead>\n",
              "    <tr style=\"text-align: right;\">\n",
              "      <th></th>\n",
              "      <th>name</th>\n",
              "      <th>calories</th>\n",
              "      <th>sodium</th>\n",
              "      <th>alcohol</th>\n",
              "      <th>cost</th>\n",
              "    </tr>\n",
              "  </thead>\n",
              "  <tbody>\n",
              "    <tr>\n",
              "      <th>10</th>\n",
              "      <td>Coors</td>\n",
              "      <td>140</td>\n",
              "      <td>18</td>\n",
              "      <td>4.6</td>\n",
              "      <td>0.44</td>\n",
              "    </tr>\n",
              "    <tr>\n",
              "      <th>16</th>\n",
              "      <td>Hamms</td>\n",
              "      <td>139</td>\n",
              "      <td>19</td>\n",
              "      <td>4.4</td>\n",
              "      <td>0.43</td>\n",
              "    </tr>\n",
              "  </tbody>\n",
              "</table>\n",
              "</div>"
            ],
            "text/plain": [
              "     name  calories  sodium  alcohol  cost\n",
              "10  Coors       140      18      4.6  0.44\n",
              "16  Hamms       139      19      4.4  0.43"
            ]
          },
          "metadata": {},
          "execution_count": 19
        }
      ]
    },
    {
      "cell_type": "code",
      "metadata": {
        "colab": {
          "base_uri": "https://localhost:8080/",
          "height": 111
        },
        "id": "899IqbGgrb8F",
        "outputId": "434dddb5-022b-4ce6-f4a1-80e039e346a4"
      },
      "source": [
        "beer_df.iloc[[2,18]]"
      ],
      "execution_count": 20,
      "outputs": [
        {
          "output_type": "execute_result",
          "data": {
            "text/html": [
              "<div>\n",
              "<style scoped>\n",
              "    .dataframe tbody tr th:only-of-type {\n",
              "        vertical-align: middle;\n",
              "    }\n",
              "\n",
              "    .dataframe tbody tr th {\n",
              "        vertical-align: top;\n",
              "    }\n",
              "\n",
              "    .dataframe thead th {\n",
              "        text-align: right;\n",
              "    }\n",
              "</style>\n",
              "<table border=\"1\" class=\"dataframe\">\n",
              "  <thead>\n",
              "    <tr style=\"text-align: right;\">\n",
              "      <th></th>\n",
              "      <th>name</th>\n",
              "      <th>calories</th>\n",
              "      <th>sodium</th>\n",
              "      <th>alcohol</th>\n",
              "      <th>cost</th>\n",
              "    </tr>\n",
              "  </thead>\n",
              "  <tbody>\n",
              "    <tr>\n",
              "      <th>2</th>\n",
              "      <td>Lowenbrau</td>\n",
              "      <td>157</td>\n",
              "      <td>15</td>\n",
              "      <td>0.9</td>\n",
              "      <td>0.48</td>\n",
              "    </tr>\n",
              "    <tr>\n",
              "      <th>18</th>\n",
              "      <td>Olympia_Goled_Light</td>\n",
              "      <td>72</td>\n",
              "      <td>6</td>\n",
              "      <td>2.9</td>\n",
              "      <td>0.46</td>\n",
              "    </tr>\n",
              "  </tbody>\n",
              "</table>\n",
              "</div>"
            ],
            "text/plain": [
              "                   name  calories  sodium  alcohol  cost\n",
              "2             Lowenbrau       157      15      0.9  0.48\n",
              "18  Olympia_Goled_Light        72       6      2.9  0.46"
            ]
          },
          "metadata": {},
          "execution_count": 20
        }
      ]
    },
    {
      "cell_type": "markdown",
      "metadata": {
        "id": "MiQy18fEsMuz"
      },
      "source": [
        "**Finding Optimal Number of Clusters using Elbow Method**"
      ]
    },
    {
      "cell_type": "code",
      "metadata": {
        "colab": {
          "base_uri": "https://localhost:8080/",
          "height": 265
        },
        "id": "vbTgFazSsOrB",
        "outputId": "c1361fcd-1f63-4e7d-d4ef-793459485260"
      },
      "source": [
        "cluster_range = range( 1, 10 )\n",
        "cluster_errors = []\n",
        "\n",
        "for num_clusters in cluster_range:\n",
        "  clusters = KMeans( num_clusters )\n",
        "  clusters.fit( scaled_beer_df )\n",
        "  cluster_errors.append( clusters.inertia_ )\n",
        "\n",
        "plt.figure(figsize=(6,4))\n",
        "plt.plot( cluster_range, cluster_errors, marker = \"o\" );\n",
        "#plt.title( \"Fig 5: Elbow Diagram\");"
      ],
      "execution_count": 21,
      "outputs": [
        {
          "output_type": "display_data",
          "data": {
            "image/png": "[encoded data removed]",
            "text/plain": [
              "<Figure size 432x288 with 1 Axes>"
            ]
          },
          "metadata": {
            "needs_background": "light"
          }
        }
      ]
    },
    {
      "cell_type": "markdown",
      "metadata": {
        "id": "ED5BzqDDscEt"
      },
      "source": [
        "# **Normalizing Features**\n",
        "**Rescaling the dataset**"
      ]
    },
    {
      "cell_type": "code",
      "metadata": {
        "id": "rPt-mJolsd5c"
      },
      "source": [
        "scaler = StandardScaler()\n",
        "scaled_beer_df = scaler.fit_transform( beer_df[['calories',\n",
        "                                                'sodium',\n",
        "                                                'alcohol',\n",
        "                                                'cost']] )"
      ],
      "execution_count": 22,
      "outputs": []
    },
    {
      "cell_type": "markdown",
      "metadata": {
        "id": "5JSRqpJFsy7h"
      },
      "source": [
        "**Creating Clusters**"
      ]
    },
    {
      "cell_type": "markdown",
      "metadata": {
        "id": "K0aqhNAYFcCc"
      },
      "source": [
        "k=3 based on the previous elbow point from the elbow diagram"
      ]
    },
    {
      "cell_type": "code",
      "metadata": {
        "id": "6_00uSdxsqu-"
      },
      "source": [
        "k = 3\n",
        "clusters = KMeans( k, random_state = 42 )\n",
        "clusters.fit( scaled_beer_df )\n",
        "beer_df[\"clusterid\"] = clusters.labels_"
      ],
      "execution_count": 23,
      "outputs": []
    },
    {
      "cell_type": "markdown",
      "metadata": {
        "id": "GKeSdVMIs-gW"
      },
      "source": [
        "**Interpreting the Clusters**\n",
        "\n",
        "Cluster 0"
      ]
    },
    {
      "cell_type": "code",
      "metadata": {
        "colab": {
          "base_uri": "https://localhost:8080/",
          "height": 297
        },
        "id": "Bj-oEsTgtACh",
        "outputId": "a6e82852-4341-4752-956a-990740a44f0d"
      },
      "source": [
        "beer_df[beer_df.clusterid == 0]"
      ],
      "execution_count": 24,
      "outputs": [
        {
          "output_type": "execute_result",
          "data": {
            "text/html": [
              "<div>\n",
              "<style scoped>\n",
              "    .dataframe tbody tr th:only-of-type {\n",
              "        vertical-align: middle;\n",
              "    }\n",
              "\n",
              "    .dataframe tbody tr th {\n",
              "        vertical-align: top;\n",
              "    }\n",
              "\n",
              "    .dataframe thead th {\n",
              "        text-align: right;\n",
              "    }\n",
              "</style>\n",
              "<table border=\"1\" class=\"dataframe\">\n",
              "  <thead>\n",
              "    <tr style=\"text-align: right;\">\n",
              "      <th></th>\n",
              "      <th>name</th>\n",
              "      <th>calories</th>\n",
              "      <th>sodium</th>\n",
              "      <th>alcohol</th>\n",
              "      <th>cost</th>\n",
              "      <th>clusterid</th>\n",
              "    </tr>\n",
              "  </thead>\n",
              "  <tbody>\n",
              "    <tr>\n",
              "      <th>2</th>\n",
              "      <td>Lowenbrau</td>\n",
              "      <td>157</td>\n",
              "      <td>15</td>\n",
              "      <td>0.9</td>\n",
              "      <td>0.48</td>\n",
              "      <td>0</td>\n",
              "    </tr>\n",
              "    <tr>\n",
              "      <th>8</th>\n",
              "      <td>Miller_Lite</td>\n",
              "      <td>99</td>\n",
              "      <td>10</td>\n",
              "      <td>4.3</td>\n",
              "      <td>0.43</td>\n",
              "      <td>0</td>\n",
              "    </tr>\n",
              "    <tr>\n",
              "      <th>9</th>\n",
              "      <td>Budweiser_Light</td>\n",
              "      <td>113</td>\n",
              "      <td>8</td>\n",
              "      <td>3.7</td>\n",
              "      <td>0.40</td>\n",
              "      <td>0</td>\n",
              "    </tr>\n",
              "    <tr>\n",
              "      <th>11</th>\n",
              "      <td>Coors_Light</td>\n",
              "      <td>102</td>\n",
              "      <td>15</td>\n",
              "      <td>4.1</td>\n",
              "      <td>0.46</td>\n",
              "      <td>0</td>\n",
              "    </tr>\n",
              "    <tr>\n",
              "      <th>12</th>\n",
              "      <td>Michelob_Light</td>\n",
              "      <td>135</td>\n",
              "      <td>11</td>\n",
              "      <td>4.2</td>\n",
              "      <td>0.50</td>\n",
              "      <td>0</td>\n",
              "    </tr>\n",
              "    <tr>\n",
              "      <th>15</th>\n",
              "      <td>Pabst_Extra_Light</td>\n",
              "      <td>68</td>\n",
              "      <td>15</td>\n",
              "      <td>2.3</td>\n",
              "      <td>0.38</td>\n",
              "      <td>0</td>\n",
              "    </tr>\n",
              "    <tr>\n",
              "      <th>18</th>\n",
              "      <td>Olympia_Goled_Light</td>\n",
              "      <td>72</td>\n",
              "      <td>6</td>\n",
              "      <td>2.9</td>\n",
              "      <td>0.46</td>\n",
              "      <td>0</td>\n",
              "    </tr>\n",
              "    <tr>\n",
              "      <th>19</th>\n",
              "      <td>Schlitz_Light</td>\n",
              "      <td>97</td>\n",
              "      <td>7</td>\n",
              "      <td>4.2</td>\n",
              "      <td>0.47</td>\n",
              "      <td>0</td>\n",
              "    </tr>\n",
              "  </tbody>\n",
              "</table>\n",
              "</div>"
            ],
            "text/plain": [
              "                   name  calories  sodium  alcohol  cost  clusterid\n",
              "2             Lowenbrau       157      15      0.9  0.48          0\n",
              "8           Miller_Lite        99      10      4.3  0.43          0\n",
              "9       Budweiser_Light       113       8      3.7  0.40          0\n",
              "11          Coors_Light       102      15      4.1  0.46          0\n",
              "12       Michelob_Light       135      11      4.2  0.50          0\n",
              "15    Pabst_Extra_Light        68      15      2.3  0.38          0\n",
              "18  Olympia_Goled_Light        72       6      2.9  0.46          0\n",
              "19        Schlitz_Light        97       7      4.2  0.47          0"
            ]
          },
          "metadata": {},
          "execution_count": 24
        }
      ]
    },
    {
      "cell_type": "markdown",
      "metadata": {
        "id": "zzlSS3kjtI6d"
      },
      "source": [
        "**Cluster 1**"
      ]
    },
    {
      "cell_type": "code",
      "metadata": {
        "colab": {
          "base_uri": "https://localhost:8080/",
          "height": 297
        },
        "id": "FQFyNKJGtLuY",
        "outputId": "2cce6aa6-8c64-4f4a-c9b4-87984ce5e946"
      },
      "source": [
        "beer_df[beer_df.clusterid == 1]"
      ],
      "execution_count": 25,
      "outputs": [
        {
          "output_type": "execute_result",
          "data": {
            "text/html": [
              "<div>\n",
              "<style scoped>\n",
              "    .dataframe tbody tr th:only-of-type {\n",
              "        vertical-align: middle;\n",
              "    }\n",
              "\n",
              "    .dataframe tbody tr th {\n",
              "        vertical-align: top;\n",
              "    }\n",
              "\n",
              "    .dataframe thead th {\n",
              "        text-align: right;\n",
              "    }\n",
              "</style>\n",
              "<table border=\"1\" class=\"dataframe\">\n",
              "  <thead>\n",
              "    <tr style=\"text-align: right;\">\n",
              "      <th></th>\n",
              "      <th>name</th>\n",
              "      <th>calories</th>\n",
              "      <th>sodium</th>\n",
              "      <th>alcohol</th>\n",
              "      <th>cost</th>\n",
              "      <th>clusterid</th>\n",
              "    </tr>\n",
              "  </thead>\n",
              "  <tbody>\n",
              "    <tr>\n",
              "      <th>0</th>\n",
              "      <td>Budweiser</td>\n",
              "      <td>144</td>\n",
              "      <td>15</td>\n",
              "      <td>4.7</td>\n",
              "      <td>0.43</td>\n",
              "      <td>1</td>\n",
              "    </tr>\n",
              "    <tr>\n",
              "      <th>1</th>\n",
              "      <td>Schlitz</td>\n",
              "      <td>151</td>\n",
              "      <td>19</td>\n",
              "      <td>4.9</td>\n",
              "      <td>0.43</td>\n",
              "      <td>1</td>\n",
              "    </tr>\n",
              "    <tr>\n",
              "      <th>5</th>\n",
              "      <td>Old_Milwaukee</td>\n",
              "      <td>145</td>\n",
              "      <td>23</td>\n",
              "      <td>4.6</td>\n",
              "      <td>0.28</td>\n",
              "      <td>1</td>\n",
              "    </tr>\n",
              "    <tr>\n",
              "      <th>6</th>\n",
              "      <td>Augsberger</td>\n",
              "      <td>175</td>\n",
              "      <td>24</td>\n",
              "      <td>5.5</td>\n",
              "      <td>0.40</td>\n",
              "      <td>1</td>\n",
              "    </tr>\n",
              "    <tr>\n",
              "      <th>7</th>\n",
              "      <td>Srohs_Bohemian_Style</td>\n",
              "      <td>149</td>\n",
              "      <td>27</td>\n",
              "      <td>4.7</td>\n",
              "      <td>0.42</td>\n",
              "      <td>1</td>\n",
              "    </tr>\n",
              "    <tr>\n",
              "      <th>10</th>\n",
              "      <td>Coors</td>\n",
              "      <td>140</td>\n",
              "      <td>18</td>\n",
              "      <td>4.6</td>\n",
              "      <td>0.44</td>\n",
              "      <td>1</td>\n",
              "    </tr>\n",
              "    <tr>\n",
              "      <th>16</th>\n",
              "      <td>Hamms</td>\n",
              "      <td>139</td>\n",
              "      <td>19</td>\n",
              "      <td>4.4</td>\n",
              "      <td>0.43</td>\n",
              "      <td>1</td>\n",
              "    </tr>\n",
              "    <tr>\n",
              "      <th>17</th>\n",
              "      <td>Heilemans_Old_Style</td>\n",
              "      <td>144</td>\n",
              "      <td>24</td>\n",
              "      <td>4.9</td>\n",
              "      <td>0.43</td>\n",
              "      <td>1</td>\n",
              "    </tr>\n",
              "  </tbody>\n",
              "</table>\n",
              "</div>"
            ],
            "text/plain": [
              "                    name  calories  sodium  alcohol  cost  clusterid\n",
              "0              Budweiser       144      15      4.7  0.43          1\n",
              "1                Schlitz       151      19      4.9  0.43          1\n",
              "5          Old_Milwaukee       145      23      4.6  0.28          1\n",
              "6             Augsberger       175      24      5.5  0.40          1\n",
              "7   Srohs_Bohemian_Style       149      27      4.7  0.42          1\n",
              "10                 Coors       140      18      4.6  0.44          1\n",
              "16                 Hamms       139      19      4.4  0.43          1\n",
              "17   Heilemans_Old_Style       144      24      4.9  0.43          1"
            ]
          },
          "metadata": {},
          "execution_count": 25
        }
      ]
    },
    {
      "cell_type": "markdown",
      "metadata": {
        "id": "aRVY3KmvtPxE"
      },
      "source": [
        "**Cluster 2**"
      ]
    },
    {
      "cell_type": "code",
      "metadata": {
        "colab": {
          "base_uri": "https://localhost:8080/",
          "height": 173
        },
        "id": "2J2BUcSQtSAc",
        "outputId": "d9d1df9e-4a0c-4391-82f8-0d664b6ede43"
      },
      "source": [
        "beer_df[beer_df.clusterid == 2]"
      ],
      "execution_count": 26,
      "outputs": [
        {
          "output_type": "execute_result",
          "data": {
            "text/html": [
              "<div>\n",
              "<style scoped>\n",
              "    .dataframe tbody tr th:only-of-type {\n",
              "        vertical-align: middle;\n",
              "    }\n",
              "\n",
              "    .dataframe tbody tr th {\n",
              "        vertical-align: top;\n",
              "    }\n",
              "\n",
              "    .dataframe thead th {\n",
              "        text-align: right;\n",
              "    }\n",
              "</style>\n",
              "<table border=\"1\" class=\"dataframe\">\n",
              "  <thead>\n",
              "    <tr style=\"text-align: right;\">\n",
              "      <th></th>\n",
              "      <th>name</th>\n",
              "      <th>calories</th>\n",
              "      <th>sodium</th>\n",
              "      <th>alcohol</th>\n",
              "      <th>cost</th>\n",
              "      <th>clusterid</th>\n",
              "    </tr>\n",
              "  </thead>\n",
              "  <tbody>\n",
              "    <tr>\n",
              "      <th>3</th>\n",
              "      <td>Kronenbourg</td>\n",
              "      <td>170</td>\n",
              "      <td>7</td>\n",
              "      <td>5.2</td>\n",
              "      <td>0.73</td>\n",
              "      <td>2</td>\n",
              "    </tr>\n",
              "    <tr>\n",
              "      <th>4</th>\n",
              "      <td>Heineken</td>\n",
              "      <td>152</td>\n",
              "      <td>11</td>\n",
              "      <td>5.0</td>\n",
              "      <td>0.77</td>\n",
              "      <td>2</td>\n",
              "    </tr>\n",
              "    <tr>\n",
              "      <th>13</th>\n",
              "      <td>Becks</td>\n",
              "      <td>150</td>\n",
              "      <td>19</td>\n",
              "      <td>4.7</td>\n",
              "      <td>0.76</td>\n",
              "      <td>2</td>\n",
              "    </tr>\n",
              "    <tr>\n",
              "      <th>14</th>\n",
              "      <td>Kirin</td>\n",
              "      <td>149</td>\n",
              "      <td>6</td>\n",
              "      <td>5.0</td>\n",
              "      <td>0.79</td>\n",
              "      <td>2</td>\n",
              "    </tr>\n",
              "  </tbody>\n",
              "</table>\n",
              "</div>"
            ],
            "text/plain": [
              "           name  calories  sodium  alcohol  cost  clusterid\n",
              "3   Kronenbourg       170       7      5.2  0.73          2\n",
              "4      Heineken       152      11      5.0  0.77          2\n",
              "13        Becks       150      19      4.7  0.76          2\n",
              "14        Kirin       149       6      5.0  0.79          2"
            ]
          },
          "metadata": {},
          "execution_count": 26
        }
      ]
    },
    {
      "cell_type": "markdown",
      "metadata": {
        "id": "R8NHGZvqzx1X"
      },
      "source": [
        "# **Hierarchical clustering**"
      ]
    },
    {
      "cell_type": "code",
      "metadata": {
        "id": "L160D8mVz0B1"
      },
      "source": [
        "from sklearn.cluster import AgglomerativeClustering"
      ],
      "execution_count": 27,
      "outputs": []
    },
    {
      "cell_type": "code",
      "metadata": {
        "id": "eDh7ID5Fz6aK"
      },
      "source": [
        "h_clusters = AgglomerativeClustering( 3 )\n",
        "h_clusters.fit( scaled_beer_df )\n",
        "beer_df[\"h_clusterid\"] = h_clusters.labels_"
      ],
      "execution_count": 28,
      "outputs": []
    },
    {
      "cell_type": "code",
      "metadata": {
        "colab": {
          "base_uri": "https://localhost:8080/",
          "height": 297
        },
        "id": "U45rPYbF0AjI",
        "outputId": "5a3c1c1a-69be-433f-a1c7-6afec68c0a52"
      },
      "source": [
        "beer_df[beer_df.h_clusterid == 0]"
      ],
      "execution_count": 29,
      "outputs": [
        {
          "output_type": "execute_result",
          "data": {
            "text/html": [
              "<div>\n",
              "<style scoped>\n",
              "    .dataframe tbody tr th:only-of-type {\n",
              "        vertical-align: middle;\n",
              "    }\n",
              "\n",
              "    .dataframe tbody tr th {\n",
              "        vertical-align: top;\n",
              "    }\n",
              "\n",
              "    .dataframe thead th {\n",
              "        text-align: right;\n",
              "    }\n",
              "</style>\n",
              "<table border=\"1\" class=\"dataframe\">\n",
              "  <thead>\n",
              "    <tr style=\"text-align: right;\">\n",
              "      <th></th>\n",
              "      <th>name</th>\n",
              "      <th>calories</th>\n",
              "      <th>sodium</th>\n",
              "      <th>alcohol</th>\n",
              "      <th>cost</th>\n",
              "      <th>clusterid</th>\n",
              "      <th>h_clusterid</th>\n",
              "    </tr>\n",
              "  </thead>\n",
              "  <tbody>\n",
              "    <tr>\n",
              "      <th>2</th>\n",
              "      <td>Lowenbrau</td>\n",
              "      <td>157</td>\n",
              "      <td>15</td>\n",
              "      <td>0.9</td>\n",
              "      <td>0.48</td>\n",
              "      <td>0</td>\n",
              "      <td>0</td>\n",
              "    </tr>\n",
              "    <tr>\n",
              "      <th>8</th>\n",
              "      <td>Miller_Lite</td>\n",
              "      <td>99</td>\n",
              "      <td>10</td>\n",
              "      <td>4.3</td>\n",
              "      <td>0.43</td>\n",
              "      <td>0</td>\n",
              "      <td>0</td>\n",
              "    </tr>\n",
              "    <tr>\n",
              "      <th>9</th>\n",
              "      <td>Budweiser_Light</td>\n",
              "      <td>113</td>\n",
              "      <td>8</td>\n",
              "      <td>3.7</td>\n",
              "      <td>0.40</td>\n",
              "      <td>0</td>\n",
              "      <td>0</td>\n",
              "    </tr>\n",
              "    <tr>\n",
              "      <th>11</th>\n",
              "      <td>Coors_Light</td>\n",
              "      <td>102</td>\n",
              "      <td>15</td>\n",
              "      <td>4.1</td>\n",
              "      <td>0.46</td>\n",
              "      <td>0</td>\n",
              "      <td>0</td>\n",
              "    </tr>\n",
              "    <tr>\n",
              "      <th>12</th>\n",
              "      <td>Michelob_Light</td>\n",
              "      <td>135</td>\n",
              "      <td>11</td>\n",
              "      <td>4.2</td>\n",
              "      <td>0.50</td>\n",
              "      <td>0</td>\n",
              "      <td>0</td>\n",
              "    </tr>\n",
              "    <tr>\n",
              "      <th>15</th>\n",
              "      <td>Pabst_Extra_Light</td>\n",
              "      <td>68</td>\n",
              "      <td>15</td>\n",
              "      <td>2.3</td>\n",
              "      <td>0.38</td>\n",
              "      <td>0</td>\n",
              "      <td>0</td>\n",
              "    </tr>\n",
              "    <tr>\n",
              "      <th>18</th>\n",
              "      <td>Olympia_Goled_Light</td>\n",
              "      <td>72</td>\n",
              "      <td>6</td>\n",
              "      <td>2.9</td>\n",
              "      <td>0.46</td>\n",
              "      <td>0</td>\n",
              "      <td>0</td>\n",
              "    </tr>\n",
              "    <tr>\n",
              "      <th>19</th>\n",
              "      <td>Schlitz_Light</td>\n",
              "      <td>97</td>\n",
              "      <td>7</td>\n",
              "      <td>4.2</td>\n",
              "      <td>0.47</td>\n",
              "      <td>0</td>\n",
              "      <td>0</td>\n",
              "    </tr>\n",
              "  </tbody>\n",
              "</table>\n",
              "</div>"
            ],
            "text/plain": [
              "                   name  calories  sodium  ...  cost  clusterid  h_clusterid\n",
              "2             Lowenbrau       157      15  ...  0.48          0            0\n",
              "8           Miller_Lite        99      10  ...  0.43          0            0\n",
              "9       Budweiser_Light       113       8  ...  0.40          0            0\n",
              "11          Coors_Light       102      15  ...  0.46          0            0\n",
              "12       Michelob_Light       135      11  ...  0.50          0            0\n",
              "15    Pabst_Extra_Light        68      15  ...  0.38          0            0\n",
              "18  Olympia_Goled_Light        72       6  ...  0.46          0            0\n",
              "19        Schlitz_Light        97       7  ...  0.47          0            0\n",
              "\n",
              "[8 rows x 7 columns]"
            ]
          },
          "metadata": {},
          "execution_count": 29
        }
      ]
    },
    {
      "cell_type": "code",
      "metadata": {
        "colab": {
          "base_uri": "https://localhost:8080/",
          "height": 297
        },
        "id": "n-1dmoo20EDE",
        "outputId": "b5d509a3-ba16-4552-f30c-da5836f76450"
      },
      "source": [
        "beer_df[beer_df.h_clusterid == 1]"
      ],
      "execution_count": 30,
      "outputs": [
        {
          "output_type": "execute_result",
          "data": {
            "text/html": [
              "<div>\n",
              "<style scoped>\n",
              "    .dataframe tbody tr th:only-of-type {\n",
              "        vertical-align: middle;\n",
              "    }\n",
              "\n",
              "    .dataframe tbody tr th {\n",
              "        vertical-align: top;\n",
              "    }\n",
              "\n",
              "    .dataframe thead th {\n",
              "        text-align: right;\n",
              "    }\n",
              "</style>\n",
              "<table border=\"1\" class=\"dataframe\">\n",
              "  <thead>\n",
              "    <tr style=\"text-align: right;\">\n",
              "      <th></th>\n",
              "      <th>name</th>\n",
              "      <th>calories</th>\n",
              "      <th>sodium</th>\n",
              "      <th>alcohol</th>\n",
              "      <th>cost</th>\n",
              "      <th>clusterid</th>\n",
              "      <th>h_clusterid</th>\n",
              "    </tr>\n",
              "  </thead>\n",
              "  <tbody>\n",
              "    <tr>\n",
              "      <th>0</th>\n",
              "      <td>Budweiser</td>\n",
              "      <td>144</td>\n",
              "      <td>15</td>\n",
              "      <td>4.7</td>\n",
              "      <td>0.43</td>\n",
              "      <td>1</td>\n",
              "      <td>1</td>\n",
              "    </tr>\n",
              "    <tr>\n",
              "      <th>1</th>\n",
              "      <td>Schlitz</td>\n",
              "      <td>151</td>\n",
              "      <td>19</td>\n",
              "      <td>4.9</td>\n",
              "      <td>0.43</td>\n",
              "      <td>1</td>\n",
              "      <td>1</td>\n",
              "    </tr>\n",
              "    <tr>\n",
              "      <th>5</th>\n",
              "      <td>Old_Milwaukee</td>\n",
              "      <td>145</td>\n",
              "      <td>23</td>\n",
              "      <td>4.6</td>\n",
              "      <td>0.28</td>\n",
              "      <td>1</td>\n",
              "      <td>1</td>\n",
              "    </tr>\n",
              "    <tr>\n",
              "      <th>6</th>\n",
              "      <td>Augsberger</td>\n",
              "      <td>175</td>\n",
              "      <td>24</td>\n",
              "      <td>5.5</td>\n",
              "      <td>0.40</td>\n",
              "      <td>1</td>\n",
              "      <td>1</td>\n",
              "    </tr>\n",
              "    <tr>\n",
              "      <th>7</th>\n",
              "      <td>Srohs_Bohemian_Style</td>\n",
              "      <td>149</td>\n",
              "      <td>27</td>\n",
              "      <td>4.7</td>\n",
              "      <td>0.42</td>\n",
              "      <td>1</td>\n",
              "      <td>1</td>\n",
              "    </tr>\n",
              "    <tr>\n",
              "      <th>10</th>\n",
              "      <td>Coors</td>\n",
              "      <td>140</td>\n",
              "      <td>18</td>\n",
              "      <td>4.6</td>\n",
              "      <td>0.44</td>\n",
              "      <td>1</td>\n",
              "      <td>1</td>\n",
              "    </tr>\n",
              "    <tr>\n",
              "      <th>16</th>\n",
              "      <td>Hamms</td>\n",
              "      <td>139</td>\n",
              "      <td>19</td>\n",
              "      <td>4.4</td>\n",
              "      <td>0.43</td>\n",
              "      <td>1</td>\n",
              "      <td>1</td>\n",
              "    </tr>\n",
              "    <tr>\n",
              "      <th>17</th>\n",
              "      <td>Heilemans_Old_Style</td>\n",
              "      <td>144</td>\n",
              "      <td>24</td>\n",
              "      <td>4.9</td>\n",
              "      <td>0.43</td>\n",
              "      <td>1</td>\n",
              "      <td>1</td>\n",
              "    </tr>\n",
              "  </tbody>\n",
              "</table>\n",
              "</div>"
            ],
            "text/plain": [
              "                    name  calories  sodium  ...  cost  clusterid  h_clusterid\n",
              "0              Budweiser       144      15  ...  0.43          1            1\n",
              "1                Schlitz       151      19  ...  0.43          1            1\n",
              "5          Old_Milwaukee       145      23  ...  0.28          1            1\n",
              "6             Augsberger       175      24  ...  0.40          1            1\n",
              "7   Srohs_Bohemian_Style       149      27  ...  0.42          1            1\n",
              "10                 Coors       140      18  ...  0.44          1            1\n",
              "16                 Hamms       139      19  ...  0.43          1            1\n",
              "17   Heilemans_Old_Style       144      24  ...  0.43          1            1\n",
              "\n",
              "[8 rows x 7 columns]"
            ]
          },
          "metadata": {},
          "execution_count": 30
        }
      ]
    },
    {
      "cell_type": "code",
      "metadata": {
        "colab": {
          "base_uri": "https://localhost:8080/",
          "height": 173
        },
        "id": "2juXSSXW0H4g",
        "outputId": "123f9770-ea94-4418-d073-00b992eb6322"
      },
      "source": [
        "beer_df[beer_df.h_clusterid == 2]"
      ],
      "execution_count": 31,
      "outputs": [
        {
          "output_type": "execute_result",
          "data": {
            "text/html": [
              "<div>\n",
              "<style scoped>\n",
              "    .dataframe tbody tr th:only-of-type {\n",
              "        vertical-align: middle;\n",
              "    }\n",
              "\n",
              "    .dataframe tbody tr th {\n",
              "        vertical-align: top;\n",
              "    }\n",
              "\n",
              "    .dataframe thead th {\n",
              "        text-align: right;\n",
              "    }\n",
              "</style>\n",
              "<table border=\"1\" class=\"dataframe\">\n",
              "  <thead>\n",
              "    <tr style=\"text-align: right;\">\n",
              "      <th></th>\n",
              "      <th>name</th>\n",
              "      <th>calories</th>\n",
              "      <th>sodium</th>\n",
              "      <th>alcohol</th>\n",
              "      <th>cost</th>\n",
              "      <th>clusterid</th>\n",
              "      <th>h_clusterid</th>\n",
              "    </tr>\n",
              "  </thead>\n",
              "  <tbody>\n",
              "    <tr>\n",
              "      <th>3</th>\n",
              "      <td>Kronenbourg</td>\n",
              "      <td>170</td>\n",
              "      <td>7</td>\n",
              "      <td>5.2</td>\n",
              "      <td>0.73</td>\n",
              "      <td>2</td>\n",
              "      <td>2</td>\n",
              "    </tr>\n",
              "    <tr>\n",
              "      <th>4</th>\n",
              "      <td>Heineken</td>\n",
              "      <td>152</td>\n",
              "      <td>11</td>\n",
              "      <td>5.0</td>\n",
              "      <td>0.77</td>\n",
              "      <td>2</td>\n",
              "      <td>2</td>\n",
              "    </tr>\n",
              "    <tr>\n",
              "      <th>13</th>\n",
              "      <td>Becks</td>\n",
              "      <td>150</td>\n",
              "      <td>19</td>\n",
              "      <td>4.7</td>\n",
              "      <td>0.76</td>\n",
              "      <td>2</td>\n",
              "      <td>2</td>\n",
              "    </tr>\n",
              "    <tr>\n",
              "      <th>14</th>\n",
              "      <td>Kirin</td>\n",
              "      <td>149</td>\n",
              "      <td>6</td>\n",
              "      <td>5.0</td>\n",
              "      <td>0.79</td>\n",
              "      <td>2</td>\n",
              "      <td>2</td>\n",
              "    </tr>\n",
              "  </tbody>\n",
              "</table>\n",
              "</div>"
            ],
            "text/plain": [
              "           name  calories  sodium  alcohol  cost  clusterid  h_clusterid\n",
              "3   Kronenbourg       170       7      5.2  0.73          2            2\n",
              "4      Heineken       152      11      5.0  0.77          2            2\n",
              "13        Becks       150      19      4.7  0.76          2            2\n",
              "14        Kirin       149       6      5.0  0.79          2            2"
            ]
          },
          "metadata": {},
          "execution_count": 31
        }
      ]
    }
  ]
}